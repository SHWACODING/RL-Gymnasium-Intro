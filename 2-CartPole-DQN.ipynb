{
 "cells": [
  {
   "cell_type": "markdown",
   "id": "ba6a0afe",
   "metadata": {},
   "source": [
    "What is the Idea of Cartpole Game -> The Agent has to decide between two actions - Moving the cart to Left or Right - so that the Pole Attached To Stays Upright."
   ]
  },
  {
   "cell_type": "code",
   "execution_count": 1,
   "id": "33022d84",
   "metadata": {},
   "outputs": [],
   "source": [
    "import gymnasium as gym\n",
    "\n",
    "import math\n",
    "import random\n",
    "import matplotlib\n",
    "import matplotlib.pyplot as plt\n",
    "\n",
    "from collections import namedtuple, deque\n",
    "from itertools import count\n",
    "\n",
    "import torch\n",
    "import torch.nn as nn\n",
    "import torch.nn.functional as F\n",
    "import torch.optim as optim"
   ]
  },
  {
   "cell_type": "code",
   "execution_count": 4,
   "id": "dbaf5008",
   "metadata": {},
   "outputs": [
    {
     "data": {
      "text/plain": [
       "<contextlib.ExitStack at 0x20555a51690>"
      ]
     },
     "execution_count": 4,
     "metadata": {},
     "output_type": "execute_result"
    }
   ],
   "source": [
    "is_ipython = 'inline' in matplotlib.get_backend().lower()\n",
    "\n",
    "if is_ipython:\n",
    "    from IPython import display\n",
    "\n",
    "plt.ion()"
   ]
  },
  {
   "cell_type": "code",
   "execution_count": 5,
   "id": "7aa6ee6c",
   "metadata": {},
   "outputs": [],
   "source": [
    "device = torch.device(\"cude\" if torch.cuda.is_available() else \"cpu\")"
   ]
  },
  {
   "cell_type": "code",
   "execution_count": 6,
   "id": "6ad0997d",
   "metadata": {},
   "outputs": [],
   "source": [
    "env = gym.make(\"CartPole-v1\")"
   ]
  },
  {
   "cell_type": "code",
   "execution_count": 7,
   "id": "2f82e617",
   "metadata": {},
   "outputs": [
    {
     "data": {
      "text/plain": [
       "<TimeLimit<OrderEnforcing<PassiveEnvChecker<CartPoleEnv<CartPole-v1>>>>>"
      ]
     },
     "execution_count": 7,
     "metadata": {},
     "output_type": "execute_result"
    }
   ],
   "source": [
    "env"
   ]
  },
  {
   "cell_type": "markdown",
   "id": "bec29dec",
   "metadata": {},
   "source": [
    "### Our Transitions && Replay Memory\n",
    "\n",
    "- Transition - is a named Tuple Consist of 4 values (state, action, next_state, reward)\n",
    "- ReplayMemory - Push Every Transition To Memory"
   ]
  },
  {
   "cell_type": "code",
   "execution_count": 8,
   "id": "e981cbaa",
   "metadata": {},
   "outputs": [],
   "source": [
    "Transition = namedtuple(\"Transition\", (\"state\", \"action\", \"next_state\", \"reward\"))\n",
    "\n",
    "class ReplayMemory(object):\n",
    "    def __init__(self, capacity):\n",
    "        self.memory = deque([], maxlen=capacity)\n",
    "    \n",
    "    def push(self, *args):\n",
    "        \"\"\"\n",
    "        Save a Transition\n",
    "        \"\"\"\n",
    "        self.memory.append(Transition(*args))\n",
    "    \n",
    "    def sample(self, batch_size):\n",
    "        return random.sample(self.memory, batch_size)\n",
    "    \n",
    "    def __len__(self):\n",
    "        return len(self.memory)"
   ]
  },
  {
   "cell_type": "markdown",
   "id": "f70121ff",
   "metadata": {},
   "source": [
    "### DQN Algorithm\n",
    "\n",
    "- DQN - (Deep Q-Network) - Is a Reinforcement Learning Algorithm that uses Deep Neural Networks To Approximate the Q-Function in Q-Learning Algorithm."
   ]
  },
  {
   "cell_type": "markdown",
   "id": "b0b8a961",
   "metadata": {},
   "source": [
    "Our Model will be a Convolutional Neural Network that takes in the difference between the current and orevious screen patches. It has two outputs, representing ``` Q(s, left) ``` and ``` Q(s, right) ``` (where s is the input to the Network). In effect, the network is trying to predict the expected return of taking each action given the current input..."
   ]
  },
  {
   "cell_type": "code",
   "execution_count": 9,
   "id": "d1139d20",
   "metadata": {},
   "outputs": [],
   "source": [
    "class DQN(nn.Module):\n",
    "    ## Multi-Layer Perceptron With Three Layers\n",
    "    ## n_observation is the input(state of the environment) to the network\n",
    "    ## n_actions - Number of possible actions in the environment\n",
    "    def __init__(self, n_observation, n_actions):\n",
    "        super(DQN, self).__init__()\n",
    "        self.layer1 = nn.Linear(n_observation, 128)\n",
    "        self.layer2 = nn.Linear(128, 128)\n",
    "        self.layer3 = nn.Linear(128, n_actions)\n",
    "    \n",
    "    ## Take and Pass the 3 Layers To the Neural Network\n",
    "    def forward(self, x):\n",
    "        x = F.relu(self.layer1(x))\n",
    "        x = F.relu(self.layer2(x))\n",
    "        return self.layer3(x)"
   ]
  },
  {
   "cell_type": "markdown",
   "id": "aad662ad",
   "metadata": {},
   "source": [
    "#### Train The DQN"
   ]
  },
  {
   "cell_type": "code",
   "execution_count": 10,
   "id": "530eccd4",
   "metadata": {},
   "outputs": [],
   "source": [
    "BATCH_SIZE = 128  # No. Of Transition Samples from The Replay Buffer\n",
    "GAMMA = 0.99      # Is The Discount Factor\n",
    "EPS_START = 0.9   # Epsilon Starting Value\n",
    "EPS_END = 0.05    # Epsilon Ending Value\n",
    "EPS_DECAY = 1000  # Epsilon Decay Value - Conrols the Exp. Decay of Epsilon - Higher Val -> Slower Decay\n",
    "TAU = 0.005       # Update Rate of the Target Network\n",
    "LR = 1e-4         # Learning Rate of Adam Optimizer\n"
   ]
  },
  {
   "cell_type": "code",
   "execution_count": 11,
   "id": "ebc77e59",
   "metadata": {},
   "outputs": [],
   "source": [
    "## Get Number of Action From GYM Action Space\n",
    "n_actions = env.action_space.n\n",
    "\n",
    "## Get the number of state observation\n",
    "state, info = env.reset()\n",
    "\n",
    "## Get the number of features in the state\n",
    "n_observations = len(state)\n",
    "\n",
    "## target_net is initialized with same weight as policy_net\n",
    "policy_net = DQN(n_observations, n_actions).to(device)\n",
    "target_net = DQN(n_observations, n_actions).to(device)\n",
    "\n",
    "target_net.load_state_dict(policy_net.state_dict())\n",
    "\n",
    "## Our Optimizer - AdamW Uses To Optimize The Weights - Enhanced Version of SGD\n",
    "optimizer = optim.AdamW(policy_net.parameters(), lr=LR, amsgrad=True)\n",
    "\n",
    "## It Will store the Agent's Experiences, Which will be used during The Trsining Process\n",
    "memory = ReplayMemory(10000)"
   ]
  },
  {
   "cell_type": "code",
   "execution_count": 12,
   "id": "2b661301",
   "metadata": {},
   "outputs": [],
   "source": [
    "## Keep Track of Number of Steps Taken By the Agent\n",
    "steps_done = 0\n",
    "\n",
    "## Input - Current State and Return an Action ??\n",
    "def select_action(state):\n",
    "    global steps_done\n",
    "    sample = random.random()\n",
    "    eps_threshold = EPS_END + (EPS_START - EPS_END) * math.exp(-1 * steps_done / EPS_DECAY)\n",
    "    steps_done += 1\n",
    "    \n",
    "    if sample > eps_threshold:\n",
    "        with torch.no_grad():\n",
    "            \"\"\"\n",
    "            t.max(1) will return the largest column value of each raw\n",
    "            second column on max result is the index of where max element was found\n",
    "            so we pick action with the largest excepeted reward\n",
    "            \"\"\"\n",
    "            return policy_net(state).max(1)[1].view(1, 1)\n",
    "    else:\n",
    "        return torch.tensor([[env.action_space.sample()]], device=device, dtype=torch.long)\n",
    "    "
   ]
  },
  {
   "cell_type": "code",
   "execution_count": null,
   "id": "13e5ace7",
   "metadata": {},
   "outputs": [],
   "source": [
    "## Is Used To Keep Track of the Duration of Each Episode\n",
    "episode_durations = []\n",
    "\n",
    "## Visulaize the Training Process\n",
    "def plot_durations(show_result=False):\n",
    "    plt.figure(1)\n",
    "    duration_t = torch.tensor(episode_durations, dtype=torch.long)\n",
    "    \n",
    "    if show_result:\n",
    "        plt.title(\"Final Result\")\n",
    "    else:\n",
    "        plt.clf()\n",
    "        plt.title(\"Training\")\n",
    "    \n",
    "    plt.xlabel(\"Episode\")\n",
    "    plt.ylabel(\"Duration\")\n",
    "    \n",
    "    plt.plot(duration_t.numpy())\n",
    "    \n",
    "    if len(duration_t) >= 100:\n",
    "        means = duration_t.float().unfold(0, 100, 1).mean(1).view(-1)\n",
    "        means = torch.cat((torch.zeros(99), means))\n",
    "        \n",
    "        plt.plot(means.numpy())\n",
    "    \n",
    "    plt.pause(0.001)  # So That Plot are Updated\n",
    "    \n",
    "    if is_ipython:\n",
    "        if not show_result:\n",
    "            display.display(plt.gcf())\n",
    "            display.clear_output(wait=True)\n",
    "        else:\n",
    "            display.display(plt.gcf())"
   ]
  },
  {
   "cell_type": "code",
   "execution_count": 20,
   "id": "ff477bbc",
   "metadata": {},
   "outputs": [],
   "source": [
    "def optimize_model():\n",
    "    ## Chack if we have enough sample for a mini-batch\n",
    "    if len(memory) < BATCH_SIZE:\n",
    "        return\n",
    "    \n",
    "    ## Extract a mini-batch of transition(state, action, next_state, reward) from replay memory\n",
    "    transition = memory.sample(BATCH_SIZE)\n",
    "    \n",
    "    ## Convert Batch-Array of Transitions to Transition Of batch arrays\n",
    "    batch = Transition(*zip(*transition))\n",
    "    \n",
    "    ## Compute a mask of non-final states and concatenate the batch elements\n",
    "    non_final_mask = torch.tensor(\n",
    "        tuple(map(lambda s: s is not None, batch.next_state)),\n",
    "        device=device,\n",
    "        dtype=torch.bool\n",
    "    )\n",
    "    \n",
    "    non_final_next_states = torch.cat([s for s in batch.next_state if s is not None])\n",
    "    \n",
    "    state_batch = torch.cat(batch.state)\n",
    "    action_batch = torch.cat(batch.action)\n",
    "    reward_batch = torch.cat(batch.reward)\n",
    "    \n",
    "    state_action_values = policy_net(state_batch).gather(1, action_batch)\n",
    "    \n",
    "    next_state_values = torch.zeros(BATCH_SIZE, device=device)\n",
    "    \n",
    "    with torch.no_grad():\n",
    "        next_state_values[non_final_mask] = target_net(non_final_mask).max(1)[0]\n",
    "    \n",
    "    ## Except Q-Value for each Tranision Using the Target\n",
    "    expected_state_action_values = (next_state_values * GAMMA) + reward_batch\n",
    "    \n",
    "    ## Compute Huber Loss - Smooth Approximantion of the mean squared error loss\n",
    "    criterion = nn.SmoothL1Loss()\n",
    "    loss = criterion(state_action_values, expected_state_action_values.unsqueeze(1))\n",
    "    \n",
    "    ## Optimize the Model\n",
    "    optimizer.zero_grad()\n",
    "    loss.backward()\n",
    "    \n",
    "    ## In-Place Gradient Clipping\n",
    "    torch.nn.utils.clip_grad_value_(policy_net.parameters())\n",
    "    optimizer.step()"
   ]
  },
  {
   "cell_type": "code",
   "execution_count": 21,
   "id": "a49c6119",
   "metadata": {},
   "outputs": [
    {
     "name": "stdout",
     "output_type": "stream",
     "text": [
      "✅ Completed\n"
     ]
    },
    {
     "data": {
      "image/png": "[encoded data removed]",
      "text/plain": [
       "<Figure size 640x480 with 1 Axes>"
      ]
     },
     "metadata": {},
     "output_type": "display_data"
    },
    {
     "data": {
      "text/plain": [
       "<Figure size 640x480 with 0 Axes>"
      ]
     },
     "metadata": {},
     "output_type": "display_data"
    },
    {
     "data": {
      "text/plain": [
       "<Figure size 640x480 with 0 Axes>"
      ]
     },
     "metadata": {},
     "output_type": "display_data"
    }
   ],
   "source": [
    "if torch.cuda.is_available():\n",
    "    num_episodes = 600\n",
    "else:\n",
    "    num_episodes = 450\n",
    "\n",
    "for i_episode in range(num_episodes):\n",
    "    ## Initialize the Environment and Get its state\n",
    "    state, info = env.reset()\n",
    "    state = torch.tensor(state, dtype=torch.float32, device=device).unsqueeze(0)\n",
    "    \n",
    "    for t in count():\n",
    "        action = select_action(state)\n",
    "        observation, reward, terminated, truncated, _ = env.step(action=action.item())\n",
    "        reward = torch.tensor([reward], device=device)\n",
    "        done = terminated | truncated\n",
    "        \n",
    "        if terminated:\n",
    "            next_state = None\n",
    "        else:\n",
    "            next_state = torch.tensor(observation, dtype=torch.float32, device=device).unsqueeze(0)\n",
    "        \n",
    "        ## Store The Transition\n",
    "        memory.push(state, action, next_state, reward)\n",
    "        \n",
    "        ## Move To the Next State\n",
    "        state = next_state\n",
    "        \n",
    "        optimize_model\n",
    "        \n",
    "        target_net_state_dict = target_net.state_dict()\n",
    "        policy_net_state_dict = policy_net.state_dict()\n",
    "        \n",
    "        for key in policy_net_state_dict:\n",
    "            target_net_state_dict[key] = policy_net_state_dict[key] * TAU + target_net_state_dict[key] * (1 - TAU)\n",
    "        \n",
    "        if done:\n",
    "            episode_durations.append(t + 1)\n",
    "            plot_durations()\n",
    "            break\n",
    "    \n",
    "    print(\"✅ Completed\")\n",
    "    \n",
    "    plot_durations(show_result=True)\n",
    "    plt.ioff()\n",
    "    plt.show()"
   ]
  },
  {
   "cell_type": "code",
   "execution_count": null,
   "id": "c62304a4",
   "metadata": {},
   "outputs": [],
   "source": []
  }
 ],
 "metadata": {
  "kernelspec": {
   "display_name": "gymnasium-env",
   "language": "python",
   "name": "python3"
  },
  "language_info": {
   "codemirror_mode": {
    "name": "ipython",
    "version": 3
   },
   "file_extension": ".py",
   "mimetype": "text/x-python",
   "name": "python",
   "nbconvert_exporter": "python",
   "pygments_lexer": "ipython3",
   "version": "3.11.13"
  }
 },
 "nbformat": 4,
 "nbformat_minor": 5
}
